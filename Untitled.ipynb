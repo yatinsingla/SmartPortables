{
 "cells": [
  {
   "cell_type": "code",
   "execution_count": 1,
   "metadata": {
    "collapsed": true
   },
   "outputs": [],
   "source": [
    "import re\n",
    "import pymysql"
   ]
  },
  {
   "cell_type": "code",
   "execution_count": null,
   "metadata": {
    "collapsed": true
   },
   "outputs": [],
   "source": [
    "import re\n",
    "import pymysql\n",
    "\n",
    "cnx = pymysql.connect(user='root',password='root',\n",
    "                      host='127.0.0.1', database='smartportables')\n",
    "\n",
    "cursor = cnx.cursor()\n",
    "\n",
    "query = (\"SELECT productName FROM productdetails\")\n",
    "cursor.execute(query)\n",
    "\n",
    "dealMatchGauranteed = []\n",
    "for product in cursor:\n",
    "    for tweet in timeline:\n",
    "        deal = (tweet['tweet']).encode('ascii','ignore')\n",
    "        if(len(re.findall(r'\\s'+product[0]+'\\s',deal)) >= 1):\n",
    "            dealMatchGauranteed = dealMatchGauranteed + [deal]"
   ]
  }
 ],
 "metadata": {
  "kernelspec": {
   "display_name": "Python 2",
   "language": "python",
   "name": "python2"
  },
  "language_info": {
   "codemirror_mode": {
    "name": "ipython",
    "version": 2
   },
   "file_extension": ".py",
   "mimetype": "text/x-python",
   "name": "python",
   "nbconvert_exporter": "python",
   "pygments_lexer": "ipython2",
   "version": "2.7.11"
  }
 },
 "nbformat": 4,
 "nbformat_minor": 0
}
